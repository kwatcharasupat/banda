{
 "cells": [
  {
   "cell_type": "code",
   "execution_count": 2,
   "id": "00edbd99",
   "metadata": {},
   "outputs": [],
   "source": [
    "import pandas as pd\n",
    "\n",
    "import os \n",
    "import glob"
   ]
  },
  {
   "cell_type": "code",
   "execution_count": 3,
   "id": "1903239a",
   "metadata": {},
   "outputs": [],
   "source": [
    "# get all the track names from MUSDB18\n",
    "\n",
    "MUSDB_PATH = \"~/Documents/data/musdb18hq/canonical\""
   ]
  },
  {
   "cell_type": "code",
   "execution_count": 4,
   "id": "ad44d4ed",
   "metadata": {},
   "outputs": [],
   "source": [
    "musdb_train = glob.glob(os.path.join(os.path.expanduser(MUSDB_PATH), \"train\", \"*\"))\n",
    "musdb_train = [os.path.basename(p) for p in musdb_train]"
   ]
  },
  {
   "cell_type": "code",
   "execution_count": 5,
   "id": "360ca7fb",
   "metadata": {},
   "outputs": [],
   "source": [
    "musdb_test = glob.glob(os.path.join(os.path.expanduser(MUSDB_PATH), \"test\", \"*\"))\n",
    "musdb_test = [os.path.basename(p) for p in musdb_test]"
   ]
  },
  {
   "cell_type": "code",
   "execution_count": 6,
   "id": "f5b1c684",
   "metadata": {},
   "outputs": [
    {
     "data": {
      "text/plain": [
       "['ANiMAL - Rockshow',\n",
       " 'Actions - One Minute Smile',\n",
       " 'Alexander Ross - Goodbye Bolero',\n",
       " 'Clara Berry And Wooldog - Waltz For My Victims',\n",
       " 'Fergessen - Nos Palpitants',\n",
       " 'James May - On The Line',\n",
       " 'Johnny Lokke - Promises & Lies',\n",
       " 'Leaf - Summerghost',\n",
       " 'Meaxic - Take A Step',\n",
       " 'Patrick Talbot - A Reason To Leave',\n",
       " 'Skelpolu - Human Mistakes',\n",
       " 'Traffic Experiment - Sirens',\n",
       " 'Triviul - Angelsaint',\n",
       " 'Young Griffo - Pennies']"
      ]
     },
     "execution_count": 6,
     "metadata": {},
     "output_type": "execute_result"
    }
   ],
   "source": [
    "musdb_val = os.listdir(os.path.join(os.path.expanduser(MUSDB_PATH), \"../intermediates/npz/val\"))\n",
    "musdb_val = [f.split(\".\")[0] for f in musdb_val if f.endswith(\".npz\")]\n",
    "\n",
    "musdb_val"
   ]
  },
  {
   "cell_type": "code",
   "execution_count": 9,
   "id": "af5cf6f1",
   "metadata": {},
   "outputs": [],
   "source": [
    "RAWSTEMS_PATH = \"~/Documents/data/rawstems/canonical/\"\n",
    "\n",
    "rawstems = glob.glob(os.path.join(os.path.expanduser(RAWSTEMS_PATH), \"*\"))\n",
    "rawstems = [os.path.basename(p) for p in rawstems]"
   ]
  },
  {
   "cell_type": "code",
   "execution_count": 8,
   "id": "8372d105",
   "metadata": {},
   "outputs": [
    {
     "data": {
      "text/plain": [
       "[]"
      ]
     },
     "execution_count": 8,
     "metadata": {},
     "output_type": "execute_result"
    }
   ],
   "source": [
    "rawstems = [fn.split(\" - \") for fn in rawstems]\n",
    "\n",
    "rawstems"
   ]
  },
  {
   "cell_type": "code",
   "execution_count": 28,
   "id": "e9320af2",
   "metadata": {},
   "outputs": [],
   "source": [
    "rawstems_df = []\n",
    "\n",
    "for artist, title in rawstems:\n",
    "    artist = artist.replace(\"_\", \" \").strip()\n",
    "    title = title.replace(\"_\", \" \").strip()\n",
    "\n",
    "    track_name = f\"{artist} - {title}\"\n",
    "    rawstems_df.append(track_name)"
   ]
  },
  {
   "cell_type": "code",
   "execution_count": 29,
   "id": "814b487d",
   "metadata": {},
   "outputs": [],
   "source": [
    "musdb_tracklist = pd.read_csv(\"/home/hice1/kwatchar3/scratch/musdb25-multitrack/content/cleaned_tracklist_w_path_final.csv\")"
   ]
  },
  {
   "cell_type": "code",
   "execution_count": 30,
   "id": "5ddf39b7",
   "metadata": {},
   "outputs": [],
   "source": [
    "musdb_tracklist = musdb_tracklist[musdb_tracklist.Source == \"DSD\"]"
   ]
  },
  {
   "cell_type": "code",
   "execution_count": 31,
   "id": "2b76d983",
   "metadata": {},
   "outputs": [],
   "source": [
    "musdb_tracklist[\"split\"] = musdb_tracklist[\"musdb18_path\"].apply(lambda x: x.split(\"canonical/\")[-1].split(\"/\")[0])"
   ]
  },
  {
   "cell_type": "code",
   "execution_count": 32,
   "id": "ae8120e9",
   "metadata": {},
   "outputs": [
    {
     "data": {
      "text/plain": [
       "split\n",
       "train    54\n",
       "test     46\n",
       "Name: count, dtype: int64"
      ]
     },
     "execution_count": 32,
     "metadata": {},
     "output_type": "execute_result"
    }
   ],
   "source": [
    "musdb_tracklist.value_counts(\"split\")"
   ]
  },
  {
   "cell_type": "code",
   "execution_count": 36,
   "id": "d62dcc8a",
   "metadata": {},
   "outputs": [
    {
     "name": "stdout",
     "output_type": "stream",
     "text": [
      "Found in val: Actions - One Minute Smile\n",
      "Found in val: Fergessen - Nos Palpitants\n",
      "Found in val: James May - On The Line\n",
      "Found in val: Leaf - Summerghost\n",
      "Found in val: Skelpolu - Human Mistakes\n",
      "Found in val: Traffic Experiment - Sirens\n",
      "Found in val: Triviul - Angelsaint\n",
      "Found special case\n",
      "Found in val: Young Griffo - Pennies\n"
     ]
    }
   ],
   "source": [
    "track_in_musdb_train = []\n",
    "track_in_musdb_val = []\n",
    "track_in_musdb_test = []\n",
    "\n",
    "for _, row in musdb_tracklist.iterrows():\n",
    "    track_name = f\"{row['Artist'].strip()} - {row['Title'].strip()}\"\n",
    "\n",
    "    if track_name in rawstems_df or track_name == \"Triviul - Widow\":\n",
    "        if track_name == \"Triviul - Widow\":\n",
    "            print(\"Found special case\")\n",
    "            track_name = \"Triviul - Widow (feat. The Fiend)\"\n",
    "        if row[\"split\"] == \"train\":\n",
    "\n",
    "            if track_name in musdb_val:\n",
    "\n",
    "                original_path = os.path.join(os.path.expanduser(RAWSTEMS_PATH), f\"{row['Artist'].replace(' ', '_')} - {row['Title'].replace(' ', '_')}\")\n",
    "                new_path = original_path.replace(\"musdb18_train\", \"musdb18_val\")\n",
    "                os.makedirs(os.path.dirname(new_path), exist_ok=True)\n",
    "\n",
    "                os.rename(\n",
    "                    original_path,\n",
    "                    new_path,\n",
    "                )\n",
    "\n",
    "                track_in_musdb_val.append(track_name)\n",
    "                print(f\"Found in val: {track_name}\")\n",
    "            else:\n",
    "                track_in_musdb_train.append(track_name)\n",
    "        elif row[\"split\"] == \"test\":\n",
    "            track_in_musdb_test.append(track_name)\n",
    "        else:\n",
    "            raise ValueError(f\"Unknown split: {row['split']}\")  \n",
    "\n",
    "    # if track_name not in rawstems_df:\n",
    "    #     print(track_name)\n",
    "\n",
    "    "
   ]
  },
  {
   "cell_type": "code",
   "execution_count": null,
   "id": "5fbdc516",
   "metadata": {},
   "outputs": [
    {
     "name": "stdout",
     "output_type": "stream",
     "text": [
      "Triviul - Alright?\n",
      "Triviul - Angelsaint\n",
      "Triviul - Better?\n",
      "Triviul - Dorothy\n",
      "Triviul - Gimme\n",
      "Triviul - To Sam Rawfers\n",
      "Triviul - Widow (feat. The Fiend)\n"
     ]
    }
   ],
   "source": [
    "from collections import defaultdict\n",
    "import pandas as pd\n",
    "\n",
    "\n",
    "\n",
    "rawstems = glob.glob(os.path.join(os.path.expanduser(RAWSTEMS_PATH), \"*\"))\n",
    "rawstems = [os.path.basename(p) for p in rawstems]\n",
    "\n",
    "error_log = []\n",
    "\n",
    "df = []\n",
    "\n",
    "for filename in rawstems:\n",
    "    comp = filename.split(\"|\")\n",
    "\n",
    "    if len(comp) != 2:\n",
    "        raise ValueError(f\"Unexpected filename format: {filename}\")\n",
    "    \n",
    "    artist, title = comp\n",
    "\n",
    "    artist = artist.replace(\"_\", \" \").strip()\n",
    "    title = title.replace(\"_\", \" \").strip()\n",
    "\n",
    "    track_name = f\"{artist} - {title}\"\n",
    "    if artist == \"Triviul\":\n",
    "        print(track_name)\n",
    "    item = {\n",
    "        \"artist\": artist,\n",
    "        \"title\": title,\n",
    "        \"folder_name\": filename\n",
    "    }\n",
    "\n",
    "    if track_name in track_in_musdb_train:\n",
    "        item['musdb18_split'] = 'train'\n",
    "    elif track_name in track_in_musdb_test:\n",
    "        item['musdb18_split'] = 'test'\n",
    "    else:\n",
    "        item['musdb18_split'] = 'none'\n",
    "\n",
    "    folder = os.path.join(os.path.expanduser(RAWSTEMS_PATH), filename)\n",
    "    stems = glob.glob(os.path.join(folder, \"**/*.*\"), recursive=True)\n",
    "    stems = [os.path.relpath(s, folder) for s in stems]\n",
    "\n",
    "    num_stems = len(stems)\n",
    "    stem_distribution = defaultdict(int)\n",
    "    top_level_stem_distribution = defaultdict(int)\n",
    "    for stem in stems:\n",
    "        \n",
    "        original_stem = stem\n",
    "\n",
    "        stem = stem.replace(\"Bss\", \"Bass\")\n",
    "        stem = stem.replace(\"VocLV\", \"Voc/LV\")\n",
    "        if \"Voc/LV\" not in stem:\n",
    "            stem = stem.replace(\"oc/LV\", \"Voc/LV\")\n",
    "        stem = stem.replace(\"Rhy/OERC\", \"Rhy/PERC\")\n",
    "\n",
    "        if \"Room-AR70.wav\" in stem:\n",
    "            stem = \"Misc/Room/Room-AR70.wav\"\n",
    "\n",
    "        if original_stem != stem:\n",
    "            error_log.append({\n",
    "                \"stem_type\": stem.split(\"/\")[0],\n",
    "                \"track_id\": filename,\n",
    "                \"original_path\": original_stem,\n",
    "                \"corrected_path\": stem,\n",
    "            })\n",
    "\n",
    "        stem_classes = stem.split(\"/\")[:-1]\n",
    "        if len(stem_classes) == 0:\n",
    "            print(f\"Unknown stem class for stem: {stem}\")\n",
    "            raise ValueError(f\"Unknown stem class for stem: {stem}\")\n",
    "\n",
    "        top_level_stem = stem_classes[0]\n",
    "        stem_classes = \"/\".join(stem_classes)\n",
    "\n",
    "        stem_distribution[stem_classes] += 1\n",
    "\n",
    "        top_level_stem_distribution[top_level_stem] += 1\n",
    "        \n",
    "    item.update(stem_distribution)\n",
    "\n",
    "    for k, v in top_level_stem_distribution.items():\n",
    "        item[f\"{k}/**\"] = v\n",
    "\n",
    "    item['num_stems'] = num_stems\n",
    "\n",
    "    df.append(item)\n",
    "\n",
    "df = pd.DataFrame(df)\n",
    "df = df.fillna(0)\n",
    "idx_keys = ['artist', 'title', 'folder_name', 'musdb18_split', 'num_stems']\n",
    "other_keys = [k for k in df.columns if k not in idx_keys]\n",
    "df = df[idx_keys + sorted(other_keys)]\n",
    "for col in other_keys:\n",
    "    df[col] = df[col].astype(int)\n",
    "\n",
    "# df.to_csv(os.path.join(os.path.expanduser(RAWSTEMS_PATH), \"../..\", \"tracklist.csv\"), index=False)"
   ]
  },
  {
   "cell_type": "code",
   "execution_count": 1,
   "id": "38ca2739",
   "metadata": {},
   "outputs": [
    {
     "ename": "NameError",
     "evalue": "name 'df' is not defined",
     "output_type": "error",
     "traceback": [
      "\u001b[31m---------------------------------------------------------------------------\u001b[39m",
      "\u001b[31mNameError\u001b[39m                                 Traceback (most recent call last)",
      "\u001b[36mCell\u001b[39m\u001b[36m \u001b[39m\u001b[32mIn[1]\u001b[39m\u001b[32m, line 1\u001b[39m\n\u001b[32m----> \u001b[39m\u001b[32m1\u001b[39m \u001b[43mdf\u001b[49m\n",
      "\u001b[31mNameError\u001b[39m: name 'df' is not defined"
     ]
    }
   ],
   "source": [
    "df"
   ]
  },
  {
   "cell_type": "code",
   "execution_count": null,
   "id": "2eb6db51",
   "metadata": {},
   "outputs": [
    {
     "data": {
      "text/plain": [
       "'/home/hice1/kwatchar3/Documents/data/rawstems/tracklist.csv'"
      ]
     },
     "execution_count": 148,
     "metadata": {},
     "output_type": "execute_result"
    }
   ],
   "source": [
    "os.path.abspath(os.path.join(os.path.expanduser(RAWSTEMS_PATH), \"../..\", \"tracklist.csv\"))"
   ]
  },
  {
   "cell_type": "code",
   "execution_count": null,
   "id": "122eb425",
   "metadata": {},
   "outputs": [],
   "source": [
    "error_log = pd.DataFrame(error_log)"
   ]
  },
  {
   "cell_type": "code",
   "execution_count": null,
   "id": "68bd2582",
   "metadata": {},
   "outputs": [],
   "source": []
  },
  {
   "cell_type": "code",
   "execution_count": null,
   "id": "1097501c",
   "metadata": {},
   "outputs": [],
   "source": [
    "error_log = error_log.sort_values(['stem_type', 'track_id'], ascending=[False, True])"
   ]
  },
  {
   "cell_type": "code",
   "execution_count": null,
   "id": "cf4655d5",
   "metadata": {},
   "outputs": [],
   "source": [
    "# error_log.to_csv(\"rawstems_error_log.csv\", index=False)"
   ]
  }
 ],
 "metadata": {
  "kernelspec": {
   "display_name": "Python 3",
   "language": "python",
   "name": "python3"
  },
  "language_info": {
   "codemirror_mode": {
    "name": "ipython",
    "version": 3
   },
   "file_extension": ".py",
   "mimetype": "text/x-python",
   "name": "python",
   "nbconvert_exporter": "python",
   "pygments_lexer": "ipython3",
   "version": "3.12.3"
  }
 },
 "nbformat": 4,
 "nbformat_minor": 5
}
